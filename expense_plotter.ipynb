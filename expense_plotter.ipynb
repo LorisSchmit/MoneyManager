{
 "cells": [
  {
   "cell_type": "code",
   "execution_count": 83,
   "id": "8c49e0f7",
   "metadata": {},
   "outputs": [
    {
     "data": {
      "text/plain": [
       "'C/UTF-8/C/C/C/C'"
      ]
     },
     "execution_count": 83,
     "metadata": {},
     "output_type": "execute_result"
    }
   ],
   "source": [
    "from database_api import *\n",
    "from Year import *\n",
    "from Month import *\n",
    "import matplotlib.pyplot as plt\n",
    "from itertools import islice\n",
    "import locale\n",
    "import pandas as pd\n",
    "locale.setlocale(locale.LC_ALL, '') "
   ]
  },
  {
   "cell_type": "code",
   "execution_count": 3,
   "id": "708ac185",
   "metadata": {},
   "outputs": [],
   "source": [
    "def plot(years):\n",
    "    fig = plt.figure(figsize=(16,9))\n",
    "    for year in years:\n",
    "        months = [Month(i,year.year_no) for i in range(1,13)]\n",
    "        values = []\n",
    "        try:\n",
    "            for month in months:\n",
    "                values.append(-round(month.tagStruct[\"Essen\"][\"Lebensmittel\"],2))\n",
    "        except AttributeError:\n",
    "            print(\"Gotcha\")\n",
    "        plt.plot(values,label=year.year_no)\n",
    "        plt.legend()\n",
    "    plt.show()"
   ]
  },
  {
   "cell_type": "code",
   "execution_count": 4,
   "id": "e3c00c86",
   "metadata": {},
   "outputs": [],
   "source": [
    "computeBalances()\n",
    "years = []\n",
    "years.append(Year(2019))\n",
    "years.append(Year(2020))\n",
    "years.append(Year(2021))\n",
    "years.append(Year(2022))"
   ]
  },
  {
   "cell_type": "code",
   "execution_count": 5,
   "id": "c9336d23",
   "metadata": {},
   "outputs": [],
   "source": [
    "months_years = []\n",
    "for year in years:\n",
    "    months = []\n",
    "    for i in range(1,13):\n",
    "        month = Month(i,year.year_no)\n",
    "        if len(month.monthly_transacts) > 0:\n",
    "            months.append(month)\n",
    "    months_years.append(months)"
   ]
  },
  {
   "cell_type": "code",
   "execution_count": 6,
   "id": "7ef0b100",
   "metadata": {},
   "outputs": [],
   "source": [
    "for year in years:\n",
    "    all_tags = {}\n",
    "    biggest_tag = list(year.tagStruct.keys())[0]\n",
    "    biggest_tag_value = list(list(year.tagStruct.values())[0].values())[0]\n",
    "    for tag,subtags in year.tagStruct.items():\n",
    "        for subtag, value in subtags.items():\n",
    "            all_tags[(tag,subtag)] = value\n",
    "    sorted_tags = {k: v for k, v in sorted(all_tags.items(), key=lambda item: item[1])}"
   ]
  },
  {
   "cell_type": "code",
   "execution_count": 7,
   "id": "1070c60f",
   "metadata": {},
   "outputs": [],
   "source": [
    "def computePerMonthPerTagExpenses(months_years,tags):\n",
    "    expense_dict = {}\n",
    "    for tag in tags:\n",
    "        if type(tag) is tuple:\n",
    "            tag_label = tag[0]+\" - \"+tag[1]\n",
    "        else:\n",
    "            tag_label = tag\n",
    "        expense_dict[tag_label] = {}   \n",
    "        for months in months_years:\n",
    "            year_no = months[0].year_no\n",
    "            expense_dict[tag_label][year_no] = {}\n",
    "            for month in months:\n",
    "                    if type(tag) is tuple: \n",
    "                        if tag[0] in month.tagStruct.keys():\n",
    "                            if tag[1] in month.tagStruct[tag[0]].keys():\n",
    "                                expense_dict[tag_label][year_no][month.month_name] = -round(month.tagStruct[tag[0]][tag[1]],2)\n",
    "                            else:\n",
    "                                expense_dict[tag_label][year_no][month.month_name] = 0\n",
    "                        else:\n",
    "                            expense_dict[tag_label][year_no][month.month_name] = 0\n",
    "                    else:\n",
    "                        if tag in month.tagStruct.keys():\n",
    "                            expense_dict[tag_label][year_no][month.month_name] = -round(sum([month.tagStruct[tag][sub_tag] for sub_tag in month.tagStruct[tag].keys()],2))                            \n",
    "                        else:\n",
    "                            expense_dict[tag_label][year_no][month.month_name] = 0\n",
    "    return expense_dict"
   ]
  },
  {
   "cell_type": "code",
   "execution_count": 8,
   "id": "76a90d33",
   "metadata": {},
   "outputs": [],
   "source": [
    "def computePerMonthExpenses(months_years,tags):\n",
    "    expense_dict = {}\n",
    "    for months in months_years:\n",
    "            year_no = months[0].year_no\n",
    "            expense_dict[year_no] = {}\n",
    "            for month in months:\n",
    "                expense_dict[year_no][month.month_name] = -month.total_spent\n",
    "    return expense_dict"
   ]
  },
  {
   "cell_type": "code",
   "execution_count": 9,
   "id": "f88b12e2",
   "metadata": {},
   "outputs": [],
   "source": [
    "#tags = [tag for tag in sorted_tags]\n",
    "#tags = tags[:4]\n",
    "tags = [\"Hardware\",\"Digital\",\"Wohnen\"]\n",
    "expense_dict = computePerMonthPerTagExpenses(months_years,tags)\n",
    "all_tags_expense_dict = computePerMonthExpenses(months_years,tags)"
   ]
  },
  {
   "cell_type": "code",
   "execution_count": 10,
   "id": "b191d441",
   "metadata": {},
   "outputs": [],
   "source": [
    "def plotPerTagExpenses(expense_dict):\n",
    "    for tag,expenses in expense_dict.items():\n",
    "        fig = plt.figure(figsize=(16,9))\n",
    "        ax = plt.gca()\n",
    "        ax.yaxis.set_major_formatter('{x:n} €')\n",
    "        ax.set_title(tag, fontsize = 20)\n",
    "        plt.xticks(rotation=45)\n",
    "        ax.tick_params(axis='both', which='major', labelsize=15)\n",
    "        ax.tick_params(axis='both', which='minor', labelsize=12)\n",
    "        for year,months in expenses.items():\n",
    "            values = []\n",
    "            labels = []\n",
    "            for month,value in months.items():\n",
    "                values.append(value)\n",
    "                labels.append(month)\n",
    "            avg = round(sum(values)/len(values),2)\n",
    "            plt.plot(labels, values, label = str(year)+\": \"+str(avg)+\" €\")\n",
    "            plt.legend(fontsize = 15)\n",
    "        fig.savefig(\"/Users/loris/Documents/MoneyManager/Balance Sheets/ExpensePlots/\"+tag+\".svg\", bbox_inches=\"tight\", dpi=1000)\n",
    "    #plt.show()\n",
    "    "
   ]
  },
  {
   "cell_type": "code",
   "execution_count": 11,
   "id": "2c14f322",
   "metadata": {},
   "outputs": [],
   "source": [
    "expense_tag_per_year = {}\n",
    "for year in years:\n",
    "    expense_tag_per_year[year.year_no] = {}\n",
    "    for tag,subtags in year.tagStruct.items():\n",
    "        total = 0\n",
    "        for subtag,value in subtags.items():\n",
    "            total -= value\n",
    "        expense_tag_per_year[year.year_no][tag] = round(total,2)"
   ]
  },
  {
   "cell_type": "code",
   "execution_count": 42,
   "id": "749b323b",
   "metadata": {},
   "outputs": [],
   "source": [
    "all_tags = {}\n",
    "for tags in expense_tag_per_year.values():\n",
    "    for tag,value in tags.items():\n",
    "        if tag not in all_tags:\n",
    "            all_tags[tag] = 0\n",
    "        else:\n",
    "            all_tags[tag] += value\n",
    "all_tags = dict(sorted(all_tags.items(), key=lambda x:x[1],reverse=True))"
   ]
  },
  {
   "cell_type": "code",
   "execution_count": 13,
   "id": "9bbc63aa",
   "metadata": {},
   "outputs": [],
   "source": [
    "expense_per_tag = {}\n",
    "for tag in all_tags.keys():\n",
    "    expense_per_tag[tag] = {}\n",
    "    for year,yearly_tags in expense_tag_per_year.items():\n",
    "        if tag in yearly_tags:\n",
    "            expense_per_tag[tag][year] = yearly_tags[tag]\n",
    "        else:\n",
    "            expense_per_tag[tag][year] = 0\n",
    "expense_per_tag = {k: v for k, v in sorted(expense_per_tag.items(), key=lambda item: max(item[1].values()),reverse=True)}"
   ]
  },
  {
   "cell_type": "code",
   "execution_count": 171,
   "id": "c91ee439",
   "metadata": {},
   "outputs": [],
   "source": [
    "def plot_expense_per_tag_split(expense_per_tag,n_first = 3):\n",
    "    big_boys = {}\n",
    "    little_boys = {}\n",
    "    for tag, expenses in expense_per_tag.items():\n",
    "        if max(expenses.values()) < 1000:\n",
    "            little_boys[tag] = expenses\n",
    "        else:\n",
    "            big_boys[tag] = expenses\n",
    "            \n",
    "    fig = plt.figure(figsize=(16,9))\n",
    "    for tag, expenses in big_boys.items():\n",
    "        values = []\n",
    "        labels = []\n",
    "        for year,value in expenses.items():\n",
    "            values.append(value)\n",
    "            labels.append(year)\n",
    "        plt.bar(labels,values,label = tag)\n",
    "    plt.legend()\n",
    "    #fig.savefig(\"/Users/loris/Documents/MoneyManager/Balance Sheets/ExpensePlots/per_year_big_boys.svg\", bbox_inches=\"tight\", dpi=1000)\n",
    "\n",
    "    fig = plt.figure(figsize=(16,9))\n",
    "    for tag, expenses in islice(little_boys.items(), n_first):\n",
    "        values = []\n",
    "        labels = []\n",
    "        for year,value in expenses.items():\n",
    "            values.append(value)\n",
    "            labels.append(year)\n",
    "        plt.bar(labels,values,label = tag)\n",
    "    \n",
    "    plt.legend()\n",
    "    #fig.savefig(\"per_year_little_boys.svg\", bbox_inches=\"tight\", dpi=1000)\n",
    "\n",
    "    plt.show()\n",
    "    \n",
    "def plot_expense_per_tag(expense_per_tag):\n",
    "    fig = plt.figure(figsize=(16,9))\n",
    "    num_years = len(list(expense_per_tag.values())[0])\n",
    "    bottom = num_years * [0]\n",
    "    for tag, expenses in expense_per_tag.items():\n",
    "        values = []\n",
    "        labels = []\n",
    "        #expenses = {k: v for k, v in sorted(expenses.items(), key=lambda item: item[1],reverse=True)}\n",
    "        for year,value in expenses.items():\n",
    "            values.append(value)\n",
    "            labels.append(year)\n",
    "        print(values,labels)\n",
    "        \n",
    "        plt.bar(labels,values,bottom = bottom, label = tag)\n",
    "        bottom = [bottom[i]+values[i] for i in range(num_years)]\n",
    "        #print(bottom)\n",
    "    plt.legend()\n",
    "    #fig.savefig(\"per_year_big_boys.svg\", bbox_inches=\"tight\", dpi=1000)\n",
    "\n",
    "    plt.show()\n"
   ]
  },
  {
   "cell_type": "code",
   "execution_count": 43,
   "id": "775a4103",
   "metadata": {},
   "outputs": [],
   "source": [
    "expense_tag_per_year = {}\n",
    "for tag in all_tags.keys():\n",
    "    \n",
    "    for year in years:\n",
    "        expense_tag_per_year[year.year_no] = {}\n",
    "        for tag in all_tags.keys():\n",
    "            expense_tag_per_year[year.year_no][tag] = 0\n",
    "        for tag,subtags in year.tagStruct.items():\n",
    "            total = 0\n",
    "            for subtag,value in subtags.items():\n",
    "                total -= value\n",
    "            expense_tag_per_year[year.year_no][tag] = round(total,2)"
   ]
  },
  {
   "cell_type": "code",
   "execution_count": null,
   "id": "27234dae",
   "metadata": {},
   "outputs": [],
   "source": [
    "fig = plt.figure(figsize=(16,16))\n",
    "ax = plt.gca()\n",
    "base_colors = ['#636EFA', '#EF553B', '#00CC96', '#AB63FA', '#FFA15A', '#19D3F3', '#FF6692', '#B6E880', '#FF97FF', '#FECB52']\n",
    "colors = []\n",
    "alphas = np.linspace(0.95,0.1,len(all_tags.keys()) // len(base_colors) + 1*(len(all_tags.keys()) % len(base_colors)>0) )\n",
    "for i in range(0,len(all_tags.keys()) // len(base_colors)):\n",
    "    for h in base_colors:\n",
    "        colors.append([int(h[1:3], 16)/255.0,int(h[3:5],16)/255.0,int(h[5:7],16)/255.0,alphas[i]])\n",
    "for j in range(0,len(all_tags.keys()) % len(base_colors)):\n",
    "    colors.append([int(h[1:3], 16)/255.0,int(h[3:5],16)/255.0,int(h[5:7],16)/255.0,alphas[i+1]])\n",
    "\n",
    "colormap = {tag: color for tag,color in zip(all_tags.keys(),colors)}\n",
    "patches = {}\n",
    "for year,tags in expense_tag_per_year.items():\n",
    "    tags_sorted = {k: v for k, v in sorted(tags.items(), key=lambda item: item[1],reverse=False)}\n",
    "    bottom = 0\n",
    "    patches[year] = {}\n",
    "    for tag,value in list(tags_sorted.items()):\n",
    "        patch = ax.bar(str(year),value,bottom = bottom,label = tag,color=colormap[tag])\n",
    "        child = patch.get_children()[0]\n",
    "        patches[year][tag] = child\n",
    "        (x1,y1) = child.get_xy()\n",
    "        width1 = child.get_width()\n",
    "        height1 = child.get_height()\n",
    "        if value > 300:\n",
    "            x_text = 0.05*width1 + x1\n",
    "            y_text = 0.4*height1 + y1\n",
    "            ax.text(x_text,y_text,tag,color=\"white\")\n",
    "        if year > 2019:\n",
    "            prev_child = patches[year-1][tag]\n",
    "            (x0,y0) = prev_child.get_xy()\n",
    "            width0 = prev_child.get_width()\n",
    "            height0 = prev_child.get_height()\n",
    "            coord = [[x0+width0,y0], [x1,y1], [x1,y1+height1], [x0+width0,y0+height0]]\n",
    "            coord.append(coord[0])\n",
    "            xs, ys = zip(*coord)\n",
    "            ax.fill(xs,ys,color=colormap[tag])\n",
    "        bottom += value"
   ]
  }
 ],
 "metadata": {
  "kernelspec": {
   "display_name": "Python 3 (ipykernel)",
   "language": "python",
   "name": "python3"
  },
  "language_info": {
   "codemirror_mode": {
    "name": "ipython",
    "version": 3
   },
   "file_extension": ".py",
   "mimetype": "text/x-python",
   "name": "python",
   "nbconvert_exporter": "python",
   "pygments_lexer": "ipython3",
   "version": "3.8.13"
  }
 },
 "nbformat": 4,
 "nbformat_minor": 5
}
